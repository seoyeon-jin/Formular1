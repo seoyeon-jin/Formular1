{
 "cells": [
  {
   "cell_type": "code",
   "execution_count": 6,
   "id": "e2207e1f-2798-4cbb-8aba-12e938ea889a",
   "metadata": {},
   "outputs": [],
   "source": [
    "import warnings\n",
    "warnings.filterwarnings('ignore')"
   ]
  },
  {
   "cell_type": "code",
   "execution_count": 7,
   "id": "5c2dc0b9-2cba-47b8-9af8-2839ff238d83",
   "metadata": {},
   "outputs": [
    {
     "name": "stderr",
     "output_type": "stream",
     "text": [
      "logger      WARNING \tFailed to load schedule from FastF1 backend!\n",
      "req            INFO \tUsing cached data for season_schedule\n",
      "core           INFO \tLoading data for Italian Grand Prix - Qualifying [v3.3.9]\n",
      "req            INFO \tUsing cached data for session_info\n",
      "req            INFO \tUsing cached data for driver_info\n",
      "req            INFO \tUsing cached data for race_control_messages\n",
      "core           INFO \tFinished loading data for 20 drivers: ['16', '44', '77', '5', '3', '27', '55', '23', '18', '7', '99', '20', '26', '4', '10', '8', '11', '63', '88', '33']\n"
     ]
    },
    {
     "name": "stdout",
     "output_type": "stream",
     "text": [
      "Pronto Sebastian?\n"
     ]
    }
   ],
   "source": [
    "import fastf1\n",
    "# 경기 데이터 로드\n",
    "# 경기년도, 서킷장소 이름, 퀄리파잉 Q or 레이스 : R \n",
    "session = fastf1.get_session(2019, 'Monza', 'Q')\n",
    "# telemetry, laps, weather 정보는 로드하지 않음.\n",
    "session.load(telemetry=False, laps=False, weather=False)\n",
    "vettel = session.get_driver('VET')\n",
    "print(f\"Pronto {vettel['FirstName']}?\")\n"
   ]
  },
  {
   "cell_type": "code",
   "execution_count": 18,
   "id": "6ac7a084-bf31-4f25-86da-ede20d2f73cc",
   "metadata": {},
   "outputs": [
    {
     "name": "stderr",
     "output_type": "stream",
     "text": [
      "logger      WARNING \tFailed to load schedule from FastF1 backend!\n",
      "req            INFO \tUsing cached data for season_schedule\n",
      "core           INFO \tLoading data for Italian Grand Prix - Qualifying [v3.3.9]\n",
      "req            INFO \tUsing cached data for session_info\n",
      "req            INFO \tUsing cached data for driver_info\n",
      "req            INFO \tUsing cached data for session_status_data\n",
      "req            INFO \tUsing cached data for track_status_data\n",
      "req            INFO \tUsing cached data for _extended_timing_data\n",
      "req            INFO \tUsing cached data for timing_app_data\n",
      "core           INFO \tProcessing timing data...\n",
      "req            INFO \tUsing cached data for car_data\n",
      "req            INFO \tUsing cached data for position_data\n",
      "req            INFO \tUsing cached data for weather_data\n",
      "req            INFO \tUsing cached data for race_control_messages\n",
      "core           INFO \tFinished loading data for 20 drivers: ['16', '44', '77', '5', '3', '27', '55', '23', '18', '7', '99', '20', '26', '4', '10', '8', '11', '63', '88', '33']\n"
     ]
    },
    {
     "name": "stdout",
     "output_type": "stream",
     "text": [
      "🏎️ Leclerc data\n",
      "Time                      0 days 01:11:14.868000\n",
      "Driver                                       LEC\n",
      "DriverNumber                                  16\n",
      "LapTime                   0 days 00:01:19.307000\n",
      "LapNumber                                   14.0\n",
      "Stint                                        5.0\n",
      "PitOutTime                                   NaT\n",
      "PitInTime                                    NaT\n",
      "Sector1Time               0 days 00:00:26.469000\n",
      "Sector2Time               0 days 00:00:26.412000\n",
      "Sector3Time               0 days 00:00:26.426000\n",
      "Sector1SessionTime        0 days 01:10:22.030000\n",
      "Sector2SessionTime        0 days 01:10:48.442000\n",
      "Sector3SessionTime        0 days 01:11:14.868000\n",
      "SpeedI1                                    329.0\n",
      "SpeedI2                                    347.0\n",
      "SpeedFL                                    321.0\n",
      "SpeedST                                    349.0\n",
      "IsPersonalBest                              True\n",
      "Compound                                    SOFT\n",
      "TyreLife                                     2.0\n",
      "FreshTyre                                   True\n",
      "Team                                     Ferrari\n",
      "LapStartTime              0 days 01:09:55.561000\n",
      "LapStartDate          2019-09-07 13:54:56.654000\n",
      "TrackStatus                                   12\n",
      "Position                                     NaN\n",
      "Deleted                                    False\n",
      "DeletedReason                                   \n",
      "FastF1Generated                            False\n",
      "IsAccurate                                  True\n",
      "Name: 13, dtype: object\n",
      "🏁🏁🏁🏁🏁🏁🏁🏁🏁🏁🏁🏁🏁🏁🏁🏁🏁🏁🏁🏁🏁🏁🏁🏁🏁🏁🏁🏁🏁🏁🏁🏁🏁🏁🏁🏁🏁🏁🏁🏁🏁🏁🏁🏁🏁🏁🏁🏁🏁🏁🏁🏁🏁🏁🏁🏁🏁🏁🏁🏁🏁🏁🏁🏁🏁🏁🏁🏁🏁🏁🏁🏁🏁🏁🏁🏁🏁🏁🏁🏁🏁🏁🏁🏁🏁🏁🏁🏁🏁🏁🏁🏁🏁🏁🏁🏁🏁🏁🏁🏁\n",
      "🏎️ Leclerc Car data\n",
      "                       Date    RPM  Speed  nGear  Throttle  Brake  DRS Source  \\\n",
      "0   2019-09-07 13:54:56.702  11723    326      8       100  False    8    car   \n",
      "1   2019-09-07 13:54:56.942  11762    325      8       100  False    8    car   \n",
      "2   2019-09-07 13:54:57.181  11736    327      8       100  False    8    car   \n",
      "3   2019-09-07 13:54:57.382  11809    329      8       100  False    8    car   \n",
      "4   2019-09-07 13:54:57.622  11852    330      8       100  False   14    car   \n",
      "..                      ...    ...    ...    ...       ...    ...  ...    ...   \n",
      "326 2019-09-07 13:56:14.863  11504    320      8       100  False    8    car   \n",
      "327 2019-09-07 13:56:15.103  11553    320      8       100  False    8    car   \n",
      "328 2019-09-07 13:56:15.343  11611    321      8       100  False    8    car   \n",
      "329 2019-09-07 13:56:15.582  11637    323      8       100  False    8    car   \n",
      "330 2019-09-07 13:56:15.822  11708    325      8       100  False    8    car   \n",
      "\n",
      "                      Time            SessionTime  \n",
      "0   0 days 00:00:00.048000 0 days 01:09:55.609000  \n",
      "1   0 days 00:00:00.288000 0 days 01:09:55.849000  \n",
      "2   0 days 00:00:00.527000 0 days 01:09:56.088000  \n",
      "3   0 days 00:00:00.728000 0 days 01:09:56.289000  \n",
      "4   0 days 00:00:00.968000 0 days 01:09:56.529000  \n",
      "..                     ...                    ...  \n",
      "326 0 days 00:01:18.209000 0 days 01:11:13.770000  \n",
      "327 0 days 00:01:18.449000 0 days 01:11:14.010000  \n",
      "328 0 days 00:01:18.689000 0 days 01:11:14.250000  \n",
      "329 0 days 00:01:18.928000 0 days 01:11:14.489000  \n",
      "330 0 days 00:01:19.168000 0 days 01:11:14.729000  \n",
      "\n",
      "[331 rows x 10 columns]\n"
     ]
    }
   ],
   "source": [
    "from matplotlib import pyplot as plt\n",
    "import fastf1\n",
    "import fastf1.plotting\n",
    "\n",
    "fastf1.plotting.setup_mpl(misc_mpl_mods=False, color_scheme='fastf1') \n",
    "\n",
    "session = fastf1.get_session(2019, 'Monza', 'Q')\n",
    "# 위와 달리 전부 경기 데이터 전부 로드 \n",
    "session.load()\n",
    "fast_leclerc = session.laps.pick_drivers('LEC').pick_fastest()\n",
    "lec_car_data = fast_leclerc.get_car_data()\n",
    "t = lec_car_data['Time']\n",
    "vCar = lec_car_data['Speed']\n",
    "\n",
    "print(\"🏎️ Leclerc data\")\n",
    "print(fast_leclerc)\n",
    "print(\"🏁\"*100)\n",
    "print(\"🏎️ Leclerc Car data\")\n",
    "print(lec_car_data)"
   ]
  },
  {
   "cell_type": "code",
   "execution_count": 19,
   "id": "b63df1d8-97a9-4ea7-b0a0-d4296fecdd79",
   "metadata": {},
   "outputs": [
    {
     "data": {
      "image/png": "[encoded data removed]",
      "text/plain": [
       "<Figure size 640x480 with 1 Axes>"
      ]
     },
     "metadata": {},
     "output_type": "display_data"
    }
   ],
   "source": [
    "# The rest is just plotting\n",
    "fig, ax = plt.subplots()\n",
    "ax.plot(t, vCar, label='Fast')\n",
    "ax.set_xlabel('Time')\n",
    "ax.set_ylabel('Speed [Km/h]')\n",
    "ax.set_title('Leclerc is')\n",
    "ax.legend()\n",
    "plt.show()"
   ]
  },
  {
   "cell_type": "code",
   "execution_count": 20,
   "id": "55ad684e-cc96-4d3b-8290-1cbd043565b4",
   "metadata": {},
   "outputs": [
    {
     "name": "stdout",
     "output_type": "stream",
     "text": [
      "🏁 Session name: Qualifying\n",
      "🏁 Session date: 2019-09-07 13:00:00\n",
      "🏁 Session event: RoundNumber                                                    14\n",
      "Country                                                     Italy\n",
      "Location                                                    Monza\n",
      "OfficialEventName    FORMULA 1 GRAN PREMIO HEINEKEN D'ITALIA 2019\n",
      "EventDate                                     2019-09-08 00:00:00\n",
      "EventName                                      Italian Grand Prix\n",
      "EventFormat                                          conventional\n",
      "Session1                                               Practice 1\n",
      "Session1Date                            2019-09-06 11:00:00+02:00\n",
      "Session1DateUtc                               2019-09-06 09:00:00\n",
      "Session2                                               Practice 2\n",
      "Session2Date                            2019-09-06 15:00:00+02:00\n",
      "Session2DateUtc                               2019-09-06 13:00:00\n",
      "Session3                                               Practice 3\n",
      "Session3Date                            2019-09-07 12:00:00+02:00\n",
      "Session3DateUtc                               2019-09-07 10:00:00\n",
      "Session4                                               Qualifying\n",
      "Session4Date                            2019-09-07 15:00:00+02:00\n",
      "Session4DateUtc                               2019-09-07 13:00:00\n",
      "Session5                                                     Race\n",
      "Session5Date                            2019-09-08 15:10:00+02:00\n",
      "Session5DateUtc                               2019-09-08 13:10:00\n",
      "F1ApiSupport                                                 True\n",
      "Name: 13, dtype: object\n"
     ]
    }
   ],
   "source": [
    "print(f\"🏁 Session name: {session.name}\")\n",
    "print(f\"🏁 Session date: {session.date}\")\n",
    "print(f\"🏁 Session event: {session.event}\")\n"
   ]
  },
  {
   "cell_type": "code",
   "execution_count": 21,
   "id": "1e7a46d2-3b8e-48c3-8c24-e064ce3d8dc6",
   "metadata": {},
   "outputs": [
    {
     "name": "stdout",
     "output_type": "stream",
     "text": [
      "🏁 Session event Name: Italian Grand Prix\n"
     ]
    }
   ],
   "source": [
    "# 이런식으로 로드해서 사용하면 됨. \n",
    "print(f\"🏁 Session event Name: {session.event['EventName']}\")"
   ]
  },
  {
   "cell_type": "code",
   "execution_count": 23,
   "id": "8b0ff985-764c-4e4a-9965-7ac6eb4b7530",
   "metadata": {},
   "outputs": [
    {
     "name": "stderr",
     "output_type": "stream",
     "text": [
      "logger      WARNING \tFailed to load schedule from FastF1 backend!\n",
      "req            INFO \tNo cached data found for season_schedule. Loading data...\n",
      "_api           INFO \tFetching season schedule...\n",
      "req            INFO \tData has been written to cache!\n"
     ]
    },
    {
     "name": "stdout",
     "output_type": "stream",
     "text": [
      "🏎️ Formular 1 Schedule:    RoundNumber    Country   Location  \\\n",
      "0            0    Bahrain     Sakhir   \n",
      "1            1  Australia  Melbourne   \n",
      "2            2      China   Shanghai   \n",
      "3            3      Japan     Suzuka   \n",
      "\n",
      "                                   OfficialEventName  EventDate  \\\n",
      "0           FORMULA 1 ARAMCO PRE-SEASON TESTING 2025 2025-02-28   \n",
      "1  FORMULA 1 LOUIS VUITTON AUSTRALIAN GRAND PRIX ... 2025-03-16   \n",
      "2         FORMULA 1 HEINEKEN CHINESE GRAND PRIX 2025 2025-03-23   \n",
      "3         FORMULA 1 LENOVO JAPANESE GRAND PRIX 2025  2025-04-06   \n",
      "\n",
      "               EventName        EventFormat    Session1  \\\n",
      "0     Pre-Season Testing            testing       Day 1   \n",
      "1  Australian Grand Prix       conventional  Practice 1   \n",
      "2     Chinese Grand Prix  sprint_qualifying  Practice 1   \n",
      "3    Japanese Grand Prix       conventional  Practice 1   \n",
      "\n",
      "                Session1Date     Session1DateUtc  ...    Session3  \\\n",
      "0  2025-02-26 10:00:00+03:00 2025-02-26 07:00:00  ...       Day 3   \n",
      "1  2025-03-14 12:30:00+11:00 2025-03-14 01:30:00  ...  Practice 3   \n",
      "2  2025-03-21 11:30:00+08:00 2025-03-21 03:30:00  ...      Sprint   \n",
      "3  2025-04-04 11:30:00+09:00 2025-04-04 02:30:00  ...  Practice 3   \n",
      "\n",
      "                Session3Date     Session3DateUtc    Session4  \\\n",
      "0  2025-02-28 10:00:00+03:00 2025-02-28 07:00:00        None   \n",
      "1  2025-03-15 12:30:00+11:00 2025-03-15 01:30:00  Qualifying   \n",
      "2  2025-03-22 11:00:00+08:00 2025-03-22 03:00:00  Qualifying   \n",
      "3  2025-04-05 11:30:00+09:00 2025-04-05 02:30:00  Qualifying   \n",
      "\n",
      "                Session4Date     Session4DateUtc Session5  \\\n",
      "0                       None                 NaT     None   \n",
      "1  2025-03-15 16:00:00+11:00 2025-03-15 05:00:00     Race   \n",
      "2  2025-03-22 15:00:00+08:00 2025-03-22 07:00:00     Race   \n",
      "3  2025-04-05 15:00:00+09:00 2025-04-05 06:00:00     Race   \n",
      "\n",
      "                Session5Date     Session5DateUtc F1ApiSupport  \n",
      "0                       None                 NaT         True  \n",
      "1  2025-03-16 15:00:00+11:00 2025-03-16 04:00:00         True  \n",
      "2  2025-03-23 15:00:00+08:00 2025-03-23 07:00:00         True  \n",
      "3  2025-04-06 14:00:00+09:00 2025-04-06 05:00:00         True  \n",
      "\n",
      "[4 rows x 23 columns]\n"
     ]
    }
   ],
   "source": [
    "schedule = fastf1.get_event_schedule(2025)\n",
    "print(f\"🏎️ Formular 1 Schedule: {schedule}\")"
   ]
  },
  {
   "cell_type": "code",
   "execution_count": 25,
   "id": "353488f3-f6fe-4bda-a6f6-057efe99cfdd",
   "metadata": {},
   "outputs": [
    {
     "name": "stdout",
     "output_type": "stream",
     "text": [
      "🏁 Session name: Qualifying\n",
      "🏁 Session date: 2019-09-07 13:00:00\n",
      "🏎️ Formular 1 Results    DriverNumber BroadcastName Abbreviation         DriverId  \\\n",
      "16           16     C LECLERC          LEC          leclerc   \n",
      "44           44    L HAMILTON          HAM         hamilton   \n",
      "77           77      V BOTTAS          BOT           bottas   \n",
      "5             5      S VETTEL          VET           vettel   \n",
      "3             3   D RICCIARDO          RIC        ricciardo   \n",
      "27           27  N HULKENBERG          HUL       hulkenberg   \n",
      "55           55       C SAINZ          SAI            sainz   \n",
      "23           23       A ALBON          ALB            albon   \n",
      "18           18      L STROLL          STR           stroll   \n",
      "7             7   K RAIKKONEN          RAI        raikkonen   \n",
      "99           99  A GIOVINAZZI          GIO       giovinazzi   \n",
      "20           20   K MAGNUSSEN          MAG  kevin_magnussen   \n",
      "26           26       D KVYAT          KVY            kvyat   \n",
      "4             4      L NORRIS          NOR           norris   \n",
      "10           10       P GASLY          GAS            gasly   \n",
      "8             8    R GROSJEAN          GRO         grosjean   \n",
      "11           11       S PEREZ          PER            perez   \n",
      "63           63     G RUSSELL          RUS          russell   \n",
      "88           88      R KUBICA          KUB           kubica   \n",
      "33           33  M VERSTAPPEN          VER   max_verstappen   \n",
      "\n",
      "             TeamName TeamColor        TeamId  FirstName    LastName  \\\n",
      "16            Ferrari    dc0000       ferrari    Charles     Leclerc   \n",
      "44           Mercedes    00d2be      mercedes      Lewis    Hamilton   \n",
      "77           Mercedes    00d2be      mercedes   Valtteri      Bottas   \n",
      "5             Ferrari    dc0000       ferrari  Sebastian      Vettel   \n",
      "3             Renault    fff500       renault     Daniel   Ricciardo   \n",
      "27            Renault    fff500       renault       Nico  Hulkenberg   \n",
      "55            McLaren    ff8700       mclaren     Carlos       Sainz   \n",
      "23    Red Bull Racing    1e41ff      red_bull  Alexander       Albon   \n",
      "18       Racing Point    f596c8  racing_point      Lance      Stroll   \n",
      "7   Alfa Romeo Racing    9b0000          alfa       Kimi   Räikkönen   \n",
      "99  Alfa Romeo Racing    9b0000          alfa    Antonio  Giovinazzi   \n",
      "20       Haas F1 Team    bd9e57          haas      Kevin   Magnussen   \n",
      "26         Toro Rosso    469bff    toro_rosso     Daniil       Kvyat   \n",
      "4             McLaren    ff8700       mclaren      Lando      Norris   \n",
      "10         Toro Rosso    469bff    toro_rosso     Pierre       Gasly   \n",
      "8        Haas F1 Team    bd9e57          haas     Romain    Grosjean   \n",
      "11       Racing Point    f596c8  racing_point     Sergio       Perez   \n",
      "63           Williams    ffffff      williams     George     Russell   \n",
      "88           Williams    ffffff      williams     Robert      Kubica   \n",
      "33    Red Bull Racing    1e41ff      red_bull        Max  Verstappen   \n",
      "\n",
      "              FullName  ... CountryCode Position  ClassifiedPosition  \\\n",
      "16     Charles Leclerc  ...                  1.0                       \n",
      "44      Lewis Hamilton  ...                  2.0                       \n",
      "77     Valtteri Bottas  ...                  3.0                       \n",
      "5     Sebastian Vettel  ...                  4.0                       \n",
      "3     Daniel Ricciardo  ...                  5.0                       \n",
      "27     Nico Hulkenberg  ...                  6.0                       \n",
      "55        Carlos Sainz  ...                  7.0                       \n",
      "23     Alexander Albon  ...                  8.0                       \n",
      "18        Lance Stroll  ...                  9.0                       \n",
      "7       Kimi Räikkönen  ...                 10.0                       \n",
      "99  Antonio Giovinazzi  ...                 11.0                       \n",
      "20     Kevin Magnussen  ...                 12.0                       \n",
      "26        Daniil Kvyat  ...                 13.0                       \n",
      "4         Lando Norris  ...                 14.0                       \n",
      "10        Pierre Gasly  ...                 15.0                       \n",
      "8      Romain Grosjean  ...                 16.0                       \n",
      "11        Sergio Perez  ...                 17.0                       \n",
      "63      George Russell  ...                 18.0                       \n",
      "88       Robert Kubica  ...                 19.0                       \n",
      "33      Max Verstappen  ...                 20.0                       \n",
      "\n",
      "   GridPosition                     Q1                     Q2  \\\n",
      "16          NaN 0 days 00:01:20.126000 0 days 00:01:19.553000   \n",
      "44          NaN 0 days 00:01:20.272000 0 days 00:01:19.464000   \n",
      "77          NaN 0 days 00:01:20.156000 0 days 00:01:20.018000   \n",
      "5           NaN 0 days 00:01:20.378000 0 days 00:01:19.715000   \n",
      "3           NaN 0 days 00:01:20.374000 0 days 00:01:19.833000   \n",
      "27          NaN 0 days 00:01:20.155000 0 days 00:01:20.275000   \n",
      "55          NaN 0 days 00:01:20.413000 0 days 00:01:20.202000   \n",
      "23          NaN 0 days 00:01:20.382000 0 days 00:01:20.021000   \n",
      "18          NaN 0 days 00:01:20.643000 0 days 00:01:20.498000   \n",
      "7           NaN 0 days 00:01:20.634000 0 days 00:01:20.515000   \n",
      "99          NaN 0 days 00:01:20.657000 0 days 00:01:20.517000   \n",
      "20          NaN 0 days 00:01:20.616000 0 days 00:01:20.615000   \n",
      "26          NaN 0 days 00:01:20.723000 0 days 00:01:20.630000   \n",
      "4           NaN 0 days 00:01:20.646000 0 days 00:01:21.068000   \n",
      "10          NaN 0 days 00:01:20.508000 0 days 00:01:21.125000   \n",
      "8           NaN 0 days 00:01:20.784000                    NaT   \n",
      "11          NaN 0 days 00:01:21.291000                    NaT   \n",
      "63          NaN 0 days 00:01:21.800000                    NaT   \n",
      "88          NaN 0 days 00:01:22.356000                    NaT   \n",
      "33          NaN                    NaT                    NaT   \n",
      "\n",
      "                       Q3 Time Status Points  \n",
      "16 0 days 00:01:19.307000  NaT           NaN  \n",
      "44 0 days 00:01:19.346000  NaT           NaN  \n",
      "77 0 days 00:01:19.354000  NaT           NaN  \n",
      "5  0 days 00:01:19.457000  NaT           NaN  \n",
      "3  0 days 00:01:19.839000  NaT           NaN  \n",
      "27 0 days 00:01:20.049000  NaT           NaN  \n",
      "55 0 days 00:01:20.455000  NaT           NaN  \n",
      "23                    NaT  NaT           NaN  \n",
      "18                    NaT  NaT           NaN  \n",
      "7                     NaT  NaT           NaN  \n",
      "99                    NaT  NaT           NaN  \n",
      "20                    NaT  NaT           NaN  \n",
      "26                    NaT  NaT           NaN  \n",
      "4                     NaT  NaT           NaN  \n",
      "10                    NaT  NaT           NaN  \n",
      "8                     NaT  NaT           NaN  \n",
      "11                    NaT  NaT           NaN  \n",
      "63                    NaT  NaT           NaN  \n",
      "88                    NaT  NaT           NaN  \n",
      "33                    NaT  NaT           NaN  \n",
      "\n",
      "[20 rows x 21 columns]\n"
     ]
    }
   ],
   "source": [
    "print(f\"🏁 Session name: {session.name}\")\n",
    "print(f\"🏁 Session date: {session.date}\")\n",
    "print(f\"🏎️ Formular 1 Results {session.results}\")"
   ]
  },
  {
   "cell_type": "code",
   "execution_count": 26,
   "id": "1b1f7e11-17b9-435f-bfcf-b7fcab6caef3",
   "metadata": {},
   "outputs": [
    {
     "data": {
      "text/plain": [
       "Index(['DriverNumber', 'BroadcastName', 'Abbreviation', 'DriverId', 'TeamName',\n",
       "       'TeamColor', 'TeamId', 'FirstName', 'LastName', 'FullName',\n",
       "       'HeadshotUrl', 'CountryCode', 'Position', 'ClassifiedPosition',\n",
       "       'GridPosition', 'Q1', 'Q2', 'Q3', 'Time', 'Status', 'Points'],\n",
       "      dtype='object')"
      ]
     },
     "execution_count": 26,
     "metadata": {},
     "output_type": "execute_result"
    }
   ],
   "source": [
    "session.results.columns"
   ]
  },
  {
   "cell_type": "code",
   "execution_count": 27,
   "id": "39a653ee-abd8-4820-ba23-825d479f935d",
   "metadata": {},
   "outputs": [
    {
     "data": {
      "text/plain": [
       "Index(['Time', 'Driver', 'DriverNumber', 'LapTime', 'LapNumber', 'Stint',\n",
       "       'PitOutTime', 'PitInTime', 'Sector1Time', 'Sector2Time', 'Sector3Time',\n",
       "       'Sector1SessionTime', 'Sector2SessionTime', 'Sector3SessionTime',\n",
       "       'SpeedI1', 'SpeedI2', 'SpeedFL', 'SpeedST', 'IsPersonalBest',\n",
       "       'Compound', 'TyreLife', 'FreshTyre', 'Team', 'LapStartTime',\n",
       "       'LapStartDate', 'TrackStatus', 'Position', 'Deleted', 'DeletedReason',\n",
       "       'FastF1Generated', 'IsAccurate'],\n",
       "      dtype='object')"
      ]
     },
     "execution_count": 27,
     "metadata": {},
     "output_type": "execute_result"
    }
   ],
   "source": [
    "session.laps.columns"
   ]
  },
  {
   "cell_type": "code",
   "execution_count": null,
   "id": "6c4f5db4-0299-4876-905d-19dfaa5131cb",
   "metadata": {},
   "outputs": [],
   "source": []
  },
  {
   "cell_type": "code",
   "execution_count": null,
   "id": "5db736e2-6096-4fcf-9619-a5bf41ea178f",
   "metadata": {},
   "outputs": [],
   "source": []
  }
 ],
 "metadata": {
  "kernelspec": {
   "display_name": "Python 3 (ipykernel)",
   "language": "python",
   "name": "python3"
  },
  "language_info": {
   "codemirror_mode": {
    "name": "ipython",
    "version": 3
   },
   "file_extension": ".py",
   "mimetype": "text/x-python",
   "name": "python",
   "nbconvert_exporter": "python",
   "pygments_lexer": "ipython3",
   "version": "3.8.10"
  }
 },
 "nbformat": 4,
 "nbformat_minor": 5
}
